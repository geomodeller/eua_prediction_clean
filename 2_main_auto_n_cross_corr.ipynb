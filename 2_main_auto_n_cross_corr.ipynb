{
 "cells": [
  {
   "cell_type": "code",
   "execution_count": null,
   "metadata": {},
   "outputs": [],
   "source": [
    "import pandas as pd\n",
    "from script.correlogram import plot_autocorrelogram, plot_cross_correlogram\n",
    "from script.correlogram import visual_all_cross_correlogram, compute_cross_correlation\n",
    "from script.visual_patial_correlation import visual_patial_correlation\n",
    "import matplotlib.pyplot as plt\n",
    "import seaborn as sns"
   ]
  },
  {
   "cell_type": "code",
   "execution_count": null,
   "metadata": {},
   "outputs": [],
   "source": [
    "df_all = pd.read_csv('eua_price_data.csv', thousands=',') \n",
    "df_all = df_all[['Date', 'EUA', 'Market_size', 'Oil', 'Coal', 'NG', 'Power', 'IR', 'GDP', 'S&P_clean']]\n",
    "df_all['Date'] = pd.to_datetime(df_all['Date'], format='%Y-%m-%d')  \n",
    "df_all.set_index('Date', inplace=True)\n",
    "df_all = df_all.sort_index(ascending=True)\n",
    "df_all = df_all[(df_all.index >= '2020-12-11') & (df_all.index <= '2024-10-07')]"
   ]
  },
  {
   "cell_type": "code",
   "execution_count": null,
   "metadata": {},
   "outputs": [],
   "source": [
    "df_all.plot(kind='line', y = ['EUA', 'Oil'], grid ='on')\n"
   ]
  },
  {
   "cell_type": "code",
   "execution_count": null,
   "metadata": {},
   "outputs": [],
   "source": [
    "df_all.head()"
   ]
  },
  {
   "cell_type": "code",
   "execution_count": null,
   "metadata": {},
   "outputs": [],
   "source": [
    "visual_patial_correlation(df_all, 'EUA')  "
   ]
  },
  {
   "cell_type": "code",
   "execution_count": null,
   "metadata": {},
   "outputs": [],
   "source": [
    "predictor_lst = ['EUA','Oil', 'Coal','Power', 'GDP', 'S&P_clean']"
   ]
  },
  {
   "cell_type": "code",
   "execution_count": null,
   "metadata": {},
   "outputs": [],
   "source": [
    "visual_all_cross_correlogram(df_all, 'EUA', predictor_lst, 100, vline= 28)"
   ]
  },
  {
   "cell_type": "code",
   "execution_count": null,
   "metadata": {},
   "outputs": [],
   "source": [
    "compute_cross_correlation(df_all, 'EUA', 'Oil', 100, True, False)"
   ]
  }
 ],
 "metadata": {
  "kernelspec": {
   "display_name": "base",
   "language": "python",
   "name": "python3"
  },
  "language_info": {
   "codemirror_mode": {
    "name": "ipython",
    "version": 3
   },
   "file_extension": ".py",
   "mimetype": "text/x-python",
   "name": "python",
   "nbconvert_exporter": "python",
   "pygments_lexer": "ipython3",
   "version": "3.12.7"
  }
 },
 "nbformat": 4,
 "nbformat_minor": 2
}
